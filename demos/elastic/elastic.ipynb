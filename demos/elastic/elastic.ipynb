{
 "cells": [
  {
   "cell_type": "markdown",
   "metadata": {},
   "source": [
    "# Elastic engine demo"
   ]
  },
  {
   "cell_type": "code",
   "execution_count": 1,
   "metadata": {},
   "outputs": [
    {
     "data": {
      "text/plain": [
       "{'workrun': 'default',\n",
       " 'filename': 'elastic.ipynb',\n",
       " 'rootpath': '/home/thuc/teko/product-search/dlf-demos_fork/demos/elastic',\n",
       " 'workdir': '/home/thuc/teko/product-search/dlf-demos_fork/demos/elastic'}"
      ]
     },
     "execution_count": 1,
     "metadata": {},
     "output_type": "execute_result"
    }
   ],
   "source": [
    "import datalabframework as dlf\n",
    "dlf.project.info()"
   ]
  },
  {
   "cell_type": "code",
   "execution_count": 2,
   "metadata": {},
   "outputs": [
    {
     "name": "stdout",
     "output_type": "stream",
     "text": [
      "engines:\n",
      "  spark-local:\n",
      "    config:\n",
      "      jobname: default\n",
      "      master: local[*]\n",
      "    context: spark\n",
      "loggers:\n",
      "  stream:\n",
      "    enable: true\n",
      "    severity: info\n",
      "providers:\n",
      "  elastic_test:\n",
      "    hostname: 123.31.32.226\n",
      "    port: 9200\n",
      "    service: elastic\n",
      "  local_filesystem:\n",
      "    format: csv\n",
      "    path: data\n",
      "    service: local\n",
      "resources:\n",
      "  .keywords:\n",
      "    path: keywords.csv\n",
      "    provider: local_filesystem\n",
      "    read:\n",
      "      mapping:\n",
      "        abc:\n",
      "          drop: true\n",
      "          fields:\n",
      "            keyword:\n",
      "              ignore_above: 256\n",
      "              type: keyword\n",
      "          fill: value\n",
      "          name: cds\n",
      "          type: text\n",
      "      options:\n",
      "        header: true\n",
      "        inferSchema: true\n",
      "  .keywords_elk:\n",
      "    index: search_keywords_dev2\n",
      "    mappings:\n",
      "      doc_type: keyword\n",
      "      properties:\n",
      "        api_result: integer\n",
      "        count: integer\n",
      "        gg: integer\n",
      "        gg_clicks: double\n",
      "        gg_impressions: double\n",
      "        gg_position: double\n",
      "        pv: integer\n",
      "        pv_impressions: double\n",
      "        pv_position: double\n",
      "        pv_result: double\n",
      "        query:\n",
      "          fields:\n",
      "            keyword:\n",
      "              ignore_above: 256\n",
      "              type: keyword\n",
      "          type: text\n",
      "        query_wo_tones:\n",
      "          fields:\n",
      "            keyword:\n",
      "              ignore_above: 256\n",
      "              type: keyword\n",
      "          type: text\n",
      "      properties_bak: \"{\\n    \\\"api_result\\\": {\\n        \\\"type\\\": \\\"double\\\"\\n  \\\n",
      "        \\  },\\n    \\\"count\\\": {\\n        \\\"type\\\": \\\"integer\\\"\\n    },\\n    \\\"gg\\\"\\\n",
      "        : {\\n        \\\"type\\\": \\\"integer\\\"\\n    },\\n    \\\"gg_clicks\\\": {\\n       \\\n",
      "        \\ \\\"type\\\": \\\"double\\\"\\n    },\\n    \\\"gg_impressions\\\": {\\n        \\\"type\\\"\\\n",
      "        : \\\"double\\\"\\n    },\\n    \\\"gg_position\\\": {\\n        \\\"type\\\": \\\"double\\\"\\\n",
      "        \\n    },\\n    \\\"pv\\\": {\\n        \\\"type\\\": \\\"integer\\\"\\n    },\\n    \\\"pv_impressions\\\"\\\n",
      "        : {\\n        \\\"type\\\": \\\"double\\\"\\n    },\\n    \\\"pv_position\\\": {\\n      \\\n",
      "        \\  \\\"type\\\": \\\"double\\\"\\n    },\\n    \\\"pv_result\\\": {\\n        \\\"type\\\": \\\"\\\n",
      "        double\\\"\\n    },\\n    \\\"query\\\": {\\n        \\\"type\\\": \\\"text\\\",\\n        \\\"\\\n",
      "        fields\\\": {\\n            \\\"keyword\\\": {\\n                \\\"type\\\": \\\"keyword\\\"\\\n",
      "        ,\\n                \\\"ignore_above\\\": 256\\n            }\\n        }\\n    },\\n\\\n",
      "        \\    \\\"query_wo_tones\\\": {\\n        \\\"type\\\": \\\"text\\\",\\n        \\\"fields\\\"\\\n",
      "        : {\\n            \\\"keyword\\\": {\\n                \\\"type\\\": \\\"keyword\\\",\\n\\\n",
      "        \\                \\\"ignore_above\\\": 256\\n            }\\n        }\\n    }\\n\\\n",
      "        }\\n\"\n",
      "      settings_bak: \"{\\n    \\\"index\\\": {\\n        \\\"number_of_shards\\\": 1,\\n     \\\n",
      "        \\   \\\"number_of_replicas\\\": 2,\\n        \\\"mapping\\\": {\\n            \\\"total_fields\\\"\\\n",
      "        : {\\n                \\\"limit\\\": \\\"100000\\\"\\n            }\\n        }\\n   \\\n",
      "        \\ }\\n}\\n\"\n",
      "    provider: elastic_test\n",
      "    settings:\n",
      "      index:\n",
      "        mapping:\n",
      "          total_fields:\n",
      "            limit: 1024\n",
      "        number_of_replicas: 3\n",
      "        number_of_shards: 1\n",
      "  .keywords_search:\n",
      "    action: _search\n",
      "    path: /search_keywords_dev2/keyword/\n",
      "    provider: elastic_test\n",
      "    query: \"{\\n  \\\"size\\\" : [[_size]],\\n  \\\"from\\\" : [[_from]],\\n  \\\"query\\\": {\\n\\\n",
      "      \\    \\\"function_score\\\": {\\n      \\\"query\\\": {\\n          \\\"match\\\" : {\\n  \\\n",
      "      \\          \\\"query_wo_tones\\\": {\\\"query\\\":\\\"[[_query]]\\\", \\\"operator\\\" :\\\"or\\\"\\\n",
      "      , \\\"fuzziness\\\":\\\"AUTO\\\"}\\n        }\\n      },\\n      \\\"script_score\\\" : {\\n\\\n",
      "      \\          \\\"script\\\" : {\\n            \\\"source\\\": \\\"Math.sqrt(doc['impressions'].value)\\\"\\\n",
      "      \\n          }\\n      },\\n      \\\"boost_mode\\\":\\\"multiply\\\"\\n    }\\n  }\\n}\\n\"\n",
      "run: default\n",
      "variables: {}\n",
      "\n",
      ".keywords:\n",
      "  path: keywords.csv\n",
      "  provider: local_filesystem\n",
      "  read:\n",
      "    mapping:\n",
      "      abc:\n",
      "        drop: true\n",
      "        fields:\n",
      "          keyword:\n",
      "            ignore_above: 256\n",
      "            type: keyword\n",
      "        fill: value\n",
      "        name: cds\n",
      "        type: text\n",
      "    options:\n",
      "      header: true\n",
      "      inferSchema: true\n",
      ".keywords_elk:\n",
      "  index: search_keywords_dev2\n",
      "  mappings:\n",
      "    doc_type: keyword\n",
      "    properties:\n",
      "      api_result: integer\n",
      "      count: integer\n",
      "      gg: integer\n",
      "      gg_clicks: double\n",
      "      gg_impressions: double\n",
      "      gg_position: double\n",
      "      pv: integer\n",
      "      pv_impressions: double\n",
      "      pv_position: double\n",
      "      pv_result: double\n",
      "      query:\n",
      "        fields:\n",
      "          keyword:\n",
      "            ignore_above: 256\n",
      "            type: keyword\n",
      "        type: text\n",
      "      query_wo_tones:\n",
      "        fields:\n",
      "          keyword:\n",
      "            ignore_above: 256\n",
      "            type: keyword\n",
      "        type: text\n",
      "    properties_bak: \"{\\n    \\\"api_result\\\": {\\n        \\\"type\\\": \\\"double\\\"\\n    },\\n\\\n",
      "      \\    \\\"count\\\": {\\n        \\\"type\\\": \\\"integer\\\"\\n    },\\n    \\\"gg\\\": {\\n  \\\n",
      "      \\      \\\"type\\\": \\\"integer\\\"\\n    },\\n    \\\"gg_clicks\\\": {\\n        \\\"type\\\"\\\n",
      "      : \\\"double\\\"\\n    },\\n    \\\"gg_impressions\\\": {\\n        \\\"type\\\": \\\"double\\\"\\\n",
      "      \\n    },\\n    \\\"gg_position\\\": {\\n        \\\"type\\\": \\\"double\\\"\\n    },\\n   \\\n",
      "      \\ \\\"pv\\\": {\\n        \\\"type\\\": \\\"integer\\\"\\n    },\\n    \\\"pv_impressions\\\":\\\n",
      "      \\ {\\n        \\\"type\\\": \\\"double\\\"\\n    },\\n    \\\"pv_position\\\": {\\n        \\\"\\\n",
      "      type\\\": \\\"double\\\"\\n    },\\n    \\\"pv_result\\\": {\\n        \\\"type\\\": \\\"double\\\"\\\n",
      "      \\n    },\\n    \\\"query\\\": {\\n        \\\"type\\\": \\\"text\\\",\\n        \\\"fields\\\"\\\n",
      "      : {\\n            \\\"keyword\\\": {\\n                \\\"type\\\": \\\"keyword\\\",\\n  \\\n",
      "      \\              \\\"ignore_above\\\": 256\\n            }\\n        }\\n    },\\n   \\\n",
      "      \\ \\\"query_wo_tones\\\": {\\n        \\\"type\\\": \\\"text\\\",\\n        \\\"fields\\\": {\\n\\\n",
      "      \\            \\\"keyword\\\": {\\n                \\\"type\\\": \\\"keyword\\\",\\n      \\\n",
      "      \\          \\\"ignore_above\\\": 256\\n            }\\n        }\\n    }\\n}\\n\"\n",
      "    settings_bak: \"{\\n    \\\"index\\\": {\\n        \\\"number_of_shards\\\": 1,\\n       \\\n",
      "      \\ \\\"number_of_replicas\\\": 2,\\n        \\\"mapping\\\": {\\n            \\\"total_fields\\\"\\\n",
      "      : {\\n                \\\"limit\\\": \\\"100000\\\"\\n            }\\n        }\\n    }\\n\\\n",
      "      }\\n\"\n",
      "  provider: elastic_test\n",
      "  settings:\n",
      "    index:\n",
      "      mapping:\n",
      "        total_fields:\n",
      "          limit: 1024\n",
      "      number_of_replicas: 3\n",
      "      number_of_shards: 1\n",
      ".keywords_search:\n",
      "  action: _search\n",
      "  path: /search_keywords_dev2/keyword/\n",
      "  provider: elastic_test\n",
      "  query: \"{\\n  \\\"size\\\" : [[_size]],\\n  \\\"from\\\" : [[_from]],\\n  \\\"query\\\": {\\n  \\\n",
      "    \\  \\\"function_score\\\": {\\n      \\\"query\\\": {\\n          \\\"match\\\" : {\\n      \\\n",
      "    \\      \\\"query_wo_tones\\\": {\\\"query\\\":\\\"[[_query]]\\\", \\\"operator\\\" :\\\"or\\\", \\\"\\\n",
      "    fuzziness\\\":\\\"AUTO\\\"}\\n        }\\n      },\\n      \\\"script_score\\\" : {\\n     \\\n",
      "    \\     \\\"script\\\" : {\\n            \\\"source\\\": \\\"Math.sqrt(doc['impressions'].value)\\\"\\\n",
      "    \\n          }\\n      },\\n      \\\"boost_mode\\\":\\\"multiply\\\"\\n    }\\n  }\\n}\\n\"\n",
      "\n"
     ]
    }
   ],
   "source": [
    "metadata = dlf.params.metadata()\n",
    "dlf.utils.pretty_print(metadata)\n",
    "# just the resources, some pretty printing\n",
    "dlf.utils.pretty_print(metadata['resources'])"
   ]
  },
  {
   "cell_type": "code",
   "execution_count": 1,
   "metadata": {},
   "outputs": [
    {
     "name": "stdout",
     "output_type": "stream",
     "text": [
      "PYSPARK_SUBMIT_ARGS:  pyspark-shell\n"
     ]
    }
   ],
   "source": [
    "import datalabframework as dlf\n",
    "engine = dlf.engines.get('spark-local')"
   ]
  },
  {
   "cell_type": "code",
   "execution_count": 2,
   "metadata": {},
   "outputs": [],
   "source": [
    "# dlf.data.metadata('keywords_elk')"
   ]
  },
  {
   "cell_type": "code",
   "execution_count": 10,
   "metadata": {},
   "outputs": [
    {
     "name": "stdout",
     "output_type": "stream",
     "text": [
      "repartition  None\n",
      "coalesce  None\n",
      "cache False\n",
      "{'size': 100, 'from': 0, 'query': {'function_score': {'query': {'match': {'query_wo_tones': {'query': 'laptop i7', 'operator': 'or', 'fuzziness': 'AUTO'}}}, 'script_score': {'script': {'source': \"Math.sqrt(doc['impressions'].value)\"}}, 'boost_mode': 'multiply'}}}\n",
      "Summary: {'took': 2, 'timed_out': False, '_shards': {'total': 1, 'successful': 1, 'skipped': 0, 'failed': 0}, 'total_hits': 212, 'max_score': 645.10345}\n",
      "+--------------------+--------------------+---------+-------+----------+-----+---+--------------+------------------+-----------+--------+---+---------+----------------+----------------+\n",
      "|                 _id|              _index|   _score|  _type|api_result|count| gg|gg_impressions|       gg_position|impressions|position| pv|pv_result|           query|  query_wo_tones|\n",
      "+--------------------+--------------------+---------+-------+----------+-----+---+--------------+------------------+-----------+--------+---+---------+----------------+----------------+\n",
      "|ydocYWYBknddiPsCTaJ4|search_keywords_dev2|645.10345|keyword|     966.0|    7|  1|      253461.0| 4.763130660666666|    33391.0|     1.0|  1|    726.0|          laptop|          laptop|\n",
      "|QNocYWYBknddiPsCTai-|search_keywords_dev2|473.11185|keyword|    1452.0|    7|  1|      115890.0| 4.356657846714286|    26945.0|     1.0|  1|    119.0|     laptop dell|     laptop dell|\n",
      "|kNocYWYBknddiPsCTaJ4|search_keywords_dev2| 414.7671|keyword|     157.0|    2|  1|       67170.0|       6.588968174|    20709.0|     1.0|  1|    147.0|     laptop asus|     laptop asus|\n",
      "|B9ocYWYBknddiPsCTaV6|search_keywords_dev2| 293.1359|keyword|    1744.0|    3|  1|       16525.0|       1.677919414|    10344.0|     1.0|  1|     56.0|      ram laptop|      ram laptop|\n",
      "|7tocYWYBknddiPsCTaB4|search_keywords_dev2|244.01176|keyword|       5.0|    1|  1|        6818.0|       2.268113816|     2908.0|     1.0|  1|     15.0|         core i7|         core i7|\n",
      "|DNocYWYBknddiPsCTaN4|search_keywords_dev2|236.11215|keyword|     134.0|    2|  1|       32419.0|       7.306636188|     6711.0|     1.0|  1|    144.0|       laptop hp|       laptop hp|\n",
      "|AdocYWYBknddiPsCTai-|search_keywords_dev2|201.15637|keyword|      90.0|    1|  1|       10207.0|       6.360340942|     4871.0|     1.0|  1|     90.0|     laptop acer|     laptop acer|\n",
      "|xNocYWYBknddiPsCTae-|search_keywords_dev2|181.44983|keyword|      17.0|    1|  1|        8021.0|       4.239122304|     1608.0|     1.0|  1|     22.0|         i7 8700|         i7 8700|\n",
      "|I9ocYWYBknddiPsCTaV6|search_keywords_dev2|171.90114|keyword|    1056.0|    5|  1|       50155.0|2.6958987938000005|3557.198041|     1.0|  1|     10.0|   laptop gaming|   laptop gaming|\n",
      "|F9ocYWYBknddiPsCTaR4|search_keywords_dev2|162.76161|keyword|    1641.0|    4|  1|        9927.0|      5.1087341515|     3189.0|     1.0|  1|     27.0|      pin laptop|      pin laptop|\n",
      "|_9ocYWYBknddiPsCTZ52|search_keywords_dev2|149.93904|keyword|       8.0|    1|  1|        6908.0|       3.240011581|     1098.0|     1.0|  1|     19.0|         i7 7700|         i7 7700|\n",
      "|LtocYWYBknddiPsCTaN4|search_keywords_dev2|148.73402|keyword|       4.0|    1|  0|           NaN|               NaN|     2663.0|     1.0|  1|      5.0|   Laptop S410UA|   laptop s410ua|\n",
      "|1tocYWYBknddiPsCTaR6|search_keywords_dev2|146.10866|keyword|    1239.0|    1|  0|           NaN|               NaN|     3600.0|     1.0|  1|      8.0|  Laptop lg gram|  laptop lg gram|\n",
      "|-docYWYBknddiPsCTaB4|search_keywords_dev2|137.24739|keyword|     706.0|    2|  1|       14574.0|2.9158850330000003|3176.572698|     1.0|  1|     17.0|tản nhiệt laptop|tan nhiet laptop|\n",
      "|etocYWYBknddiPsCTae-|search_keywords_dev2| 131.7328|keyword|       3.0|    1|  0|           NaN|               NaN|     2089.0|     1.0|  1|      4.0|   Laptop X510UQ|   laptop x510uq|\n",
      "|yNocYWYBknddiPsCTaJ4|search_keywords_dev2|128.08162|keyword|      44.0|    1|  1|        1529.0|        4.90058862|      299.0|     1.0|  1|     68.0|       laptop i7|       laptop i7|\n",
      "|cdocYWYBknddiPsCTaF4|search_keywords_dev2|116.82707|keyword|      16.0|    1|  1|       13861.0|       4.551691797|     1643.0|     1.0|  1|     22.0|      laptop msi|      laptop msi|\n",
      "|E9ocYWYBknddiPsCTai-|search_keywords_dev2|113.30454|keyword|      18.0|    1|  1|       10832.0|       4.037943131|      627.0|     1.0|  1|      3.0|        i7 8700k|        i7 8700k|\n",
      "|G9ocYWYBknddiPsCTai-|search_keywords_dev2|108.31557|keyword|       5.0|    1|  1|        1185.0|       2.215189873|      573.0|     1.0|  1|     14.0|          cpu i7|          cpu i7|\n",
      "|79ocYWYBknddiPsCTaN4|search_keywords_dev2|103.79937|keyword|       7.0|    1|  1|        1308.0|       7.090978593|     1297.0|     1.0|  1|      8.0|       laptop lg|       laptop lg|\n",
      "+--------------------+--------------------+---------+-------+----------+-----+---+--------------+------------------+-----------+--------+---+---------+----------------+----------------+\n",
      "only showing top 20 rows\n",
      "\n"
     ]
    }
   ],
   "source": [
    "res = engine.read(\".keywords_search\", _query=\"laptop i7\", _from=0, _size=100)\n",
    "res.show()"
   ]
  },
  {
   "cell_type": "code",
   "execution_count": 4,
   "metadata": {},
   "outputs": [
    {
     "data": {
      "text/plain": [
       "pyspark.sql.dataframe.DataFrame"
      ]
     },
     "execution_count": 4,
     "metadata": {},
     "output_type": "execute_result"
    }
   ],
   "source": [
    "type(res)"
   ]
  },
  {
   "cell_type": "code",
   "execution_count": 5,
   "metadata": {},
   "outputs": [
    {
     "name": "stdout",
     "output_type": "stream",
     "text": [
      "repartition  None\n",
      "coalesce  None\n",
      "cache False\n",
      "file:///home/thuc/teko/product-search/dlf-demos_fork/demos/elastic/data/keywords.csv\n"
     ]
    }
   ],
   "source": [
    "df = engine.read(\".keywords\")"
   ]
  },
  {
   "cell_type": "code",
   "execution_count": 9,
   "metadata": {},
   "outputs": [
    {
     "name": "stdout",
     "output_type": "stream",
     "text": [
      "+--------------------+--------------------+-----------+--------+--------------+-----------+----------+---------+---+---+-----+\n",
      "|      query_wo_tones|               query|impressions|position|gg_impressions|gg_position|api_result|pv_result| pv| gg|count|\n",
      "+--------------------+--------------------+-----------+--------+--------------+-----------+----------+---------+---+---+-----+\n",
      "|        asus h110m-d|        asus h110m-d|195.8090665|    null|         570.0|3.335087719|     458.0|      0.0|  0|  1|    1|\n",
      "|           ddr3 1600|           ddr3 1600|      202.0|     1.0|          86.0|        2.5|      30.0|     36.0|  1|  1|    1|\n",
      "|         epson l1300|         epson l1300|191.3432457|    null|         557.0|5.057450628|       1.0|      1.0|  0|  1|    1|\n",
      "| intel pentium g4600| intel pentium g4600|166.2659442|    null|         484.0|3.423553719|       1.0|      0.0|  0|  1|    1|\n",
      "|               j250f|               j250f|220.1993186|    null|         641.0|3.653666147|       1.0|      3.0|  0|  1|    1|\n",
      "|      logitech mk240|      logitech mk240|283.7513841|    null|         826.0|5.290556901|       3.0|      2.0|  0|  1|    1|\n",
      "|man hinh dell u2414h|màn hình dell u2414h| 312.607457|    null|         910.0|1.051013895|       1.0|     38.0|  0|  1|    1|\n",
      "|   may in canon 2900|   máy in canon 2900| 766.060032|     1.0|       33819.0|4.967219117|     290.0|     17.0|  1|  1|    2|\n",
      "|                 sdd|                 sdd|      196.0|     1.0|          null|       null|       4.0|      0.0|  1|  0|    1|\n",
      "|  ssd 120gb kingston|  ssd 120gb kingston|     8682.0|     1.0|        1568.0|1.511479592|       4.0|      5.0|  1|  1|    1|\n",
      "|tai nghe bluetoot...|tai nghe bluetoot...| 353.143369|    null|        1028.0|7.323929961|       8.0|     82.0|  0|  1|    1|\n",
      "|    tay cam game pad|    tay cam game pad|1404.328884|    null|        4088.0|1.140528006|     466.0|      0.0|  0|  1|    1|\n",
      "|                220s|                220s|      417.0|     1.0|          null|       null|       3.0|      7.0|  1|  0|    1|\n",
      "|        asus fx504gd|        asus fx504gd|400.2062499|    null|        1165.0|3.596566524|       2.0|      3.0|  0|  1|    1|\n",
      "|  bo may tinh de ban|  bộ máy tính để bàn|       93.0|     1.0|        2943.0|2.956846755|      24.0|    285.0|  1|  1|    1|\n",
      "|     cap noi dai usb|     cáp nối dài usb|197.5266899|    null|         575.0|2.648695652|       7.0|      9.0|  0|  1|    1|\n",
      "|  case cooler master|  case cooler master|268.9798229|    null|         783.0|5.947637292|      13.0|      0.0|  0|  1|    1|\n",
      "|case sama dark sh...|case sama dark sh...|       61.0|     1.0|         520.0|      1.175|       1.0|      1.0|  1|  1|    1|\n",
      "|         ddr4 laptop|         ddr4 laptop|      151.0|     1.0|          67.0|2.164179104|      15.0|     25.0|  1|  1|    1|\n",
      "|  dell inspiron 7460|  dell inspiron 7460|      133.0|     1.0|         814.0|6.582309582|     263.0|      0.0|  1|  1|    1|\n",
      "+--------------------+--------------------+-----------+--------+--------------+-----------+----------+---------+---+---+-----+\n",
      "only showing top 20 rows\n",
      "\n"
     ]
    }
   ],
   "source": [
    "df.show()"
   ]
  },
  {
   "cell_type": "code",
   "execution_count": 6,
   "metadata": {},
   "outputs": [
    {
     "name": "stdout",
     "output_type": "stream",
     "text": [
      "repartition  None\n",
      "coalesce  None\n",
      "cache False\n",
      "{'index': {'mapping': {'total_fields': {'limit': 1024}}, 'number_of_replicas': 3, 'number_of_shards': 1}}\n",
      "{'api_result': {'type': 'integer'}, 'count': {'type': 'integer'}, 'gg': {'type': 'integer'}, 'gg_clicks': {'type': 'double'}, 'gg_impressions': {'type': 'double'}, 'gg_position': {'type': 'double'}, 'pv': {'type': 'integer'}, 'pv_impressions': {'type': 'double'}, 'pv_position': {'type': 'double'}, 'pv_result': {'type': 'double'}, 'query': {'fields': {'keyword': {'ignore_above': 256, 'type': 'keyword'}}, 'type': 'text'}, 'query_wo_tones': {'fields': {'keyword': {'ignore_above': 256, 'type': 'keyword'}}, 'type': 'text'}}\n"
     ]
    }
   ],
   "source": [
    "engine.write(df, \".keywords_elk\", mode='overwrite')"
   ]
  },
  {
   "cell_type": "code",
   "execution_count": null,
   "metadata": {},
   "outputs": [],
   "source": []
  }
 ],
 "metadata": {
  "kernelspec": {
   "display_name": "Python 3",
   "language": "python",
   "name": "python3"
  },
  "language_info": {
   "codemirror_mode": {
    "name": "ipython",
    "version": 3
   },
   "file_extension": ".py",
   "mimetype": "text/x-python",
   "name": "python",
   "nbconvert_exporter": "python",
   "pygments_lexer": "ipython3",
   "version": "3.6.6"
  }
 },
 "nbformat": 4,
 "nbformat_minor": 2
}
