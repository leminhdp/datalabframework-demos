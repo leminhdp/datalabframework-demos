{
 "cells": [
  {
   "cell_type": "markdown",
   "metadata": {},
   "source": [
    "# Datalabframework\n",
    "\n",
    "Minimal example and directory structure."
   ]
  },
  {
   "cell_type": "markdown",
   "metadata": {},
   "source": [
    "## Elements\n",
    "\n",
    "This scaffolding works with three elements, which are co-ordinated with each other:\n",
    "\n",
    "  - the python notebook you are reading (main.ipynb)\n",
    "  - the datalabframework python package (datalabframework)\n",
    "  - configuration files (metadata.yml, \\__main__.py, Makefile)"
   ]
  },
  {
   "cell_type": "markdown",
   "metadata": {},
   "source": [
    "## Principles ##\n",
    "\n",
    "- ** Both notebooks and code are first citizens **\n",
    "\n",
    "In the source directory `src` you will find all source code. In particular, both notebooks and code files are treated as source files. Source code is further partitioned and scaffolded in several directories to simplify and organize the data science project. Following python package conventions, the root of the project is tagged by a `__main__.py` file and directory contains the `__init__.py` code. By doing so, python and notebook files can reference each other.\n",
    "\n",
    "Python notebooks and Python code can be mixed and matched, and are interoperable with each other. You can include function from a notebook to a python code, and you can include python files in a notebook. \n",
    "\n",
    "- ** Data Directories should not contain logic code **\n",
    "\n",
    "Data can be located anywhere, on remote HDFS clusters, or Object Store Services exposed via S3 protocols etc. However, in general is a good practice to keep some (or all data, if possible) locally on the file system. \n",
    "\n",
    "Separating data, configuration and code is done by moving all configuration to metadata files. Metadata files make possible to define aliases for data resources, data services and spark configurations, and keeping the spark code tidy with no hardcoded parameters. \n",
    "\n",
    "- ** Decouple Code from Configuration **\n",
    "\n",
    "Notebook and Code should be decoupled from both engine configurations and from data locations. All configuration is kept in `metadata.yml` yaml files. Multiple setups for test, exploration, production can be described  in the same `metadata.yml` file or in separate multiple files.\n",
    "\n",
    "- ** Declarative Configuration **\n",
    "\n",
    "Metadata files are responsible for the binding of data and engine configurations to the code. For instance all data in the code shouold be referenced by an alias, and storage and retrieval of data object and files should happen via a common API. The metadata yaml file, describes the providers for each data source as well as the mapping of data aliases to their corresponding data objects. \n",
    "\n"
   ]
  },
  {
   "cell_type": "markdown",
   "metadata": {},
   "source": [
    "## Project Template\n",
    "\n",
    "The data science project is structured in a way to facilitate the deployment of the artifacts, and to switch from batch processing to live experimentation. The top level project is composed of the following items:"
   ]
  },
  {
   "cell_type": "markdown",
   "metadata": {},
   "source": [
    "### Top level Structure\n",
    "\n",
    "```\n",
    "├── data\n",
    "│   └── ascombe.csv\n",
    "├── main.ipynb\n",
    "├── __main__.py\n",
    "├── Makefile\n",
    "└── metadata.yml\n",
    "```"
   ]
  },
  {
   "cell_type": "markdown",
   "metadata": {},
   "source": [
    "## Data Lab Framework"
   ]
  },
  {
   "cell_type": "code",
   "execution_count": 1,
   "metadata": {},
   "outputs": [],
   "source": [
    "import datalabframework as dlf"
   ]
  },
  {
   "cell_type": "markdown",
   "metadata": {},
   "source": [
    "### Package things\n",
    "Package version: package variables `version_info`, `__version__`"
   ]
  },
  {
   "cell_type": "code",
   "execution_count": 2,
   "metadata": {},
   "outputs": [
    {
     "data": {
      "text/plain": [
       "(0, 5, 4)"
      ]
     },
     "execution_count": 2,
     "metadata": {},
     "output_type": "execute_result"
    }
   ],
   "source": [
    "dlf.version_info"
   ]
  },
  {
   "cell_type": "code",
   "execution_count": 3,
   "metadata": {},
   "outputs": [
    {
     "data": {
      "text/plain": [
       "'0.5.4'"
      ]
     },
     "execution_count": 3,
     "metadata": {},
     "output_type": "execute_result"
    }
   ],
   "source": [
    "dlf.__version__"
   ]
  },
  {
   "cell_type": "markdown",
   "metadata": {},
   "source": [
    "Check is the datalabframework is loaded in the current python context"
   ]
  },
  {
   "cell_type": "code",
   "execution_count": 4,
   "metadata": {},
   "outputs": [
    {
     "name": "stdout",
     "output_type": "stream",
     "text": [
      "the datalabframework is loaded\n"
     ]
    }
   ],
   "source": [
    "try:\n",
    "    __DATALABFRAMEWORK__\n",
    "    print(\"the datalabframework is loaded\")\n",
    "except NameError:\n",
    "    print(\"the datalabframework is not loaded\")"
   ]
  },
  {
   "cell_type": "code",
   "execution_count": 5,
   "metadata": {},
   "outputs": [
    {
     "data": {
      "text/plain": [
       "['logging', 'notebook', 'project', 'params', 'data', 'engines']"
      ]
     },
     "execution_count": 5,
     "metadata": {},
     "output_type": "execute_result"
    }
   ],
   "source": [
    "#list of modules loaded as `from datalabframework import * ` \n",
    "dlf.__all__"
   ]
  },
  {
   "cell_type": "markdown",
   "metadata": {},
   "source": [
    "### Modules: project\n",
    "\n",
    "Project is all about setting the correct working directories where to run and find your notebooks, python files and configuration files.   \n",
    "When the datalabframework is imported, it starts by searching for a `__main__.py` file, according to python module file naming conventions.   \n",
    "All modules and alias paths are all relative to this project root path."
   ]
  },
  {
   "cell_type": "code",
   "execution_count": 6,
   "metadata": {},
   "outputs": [
    {
     "data": {
      "text/plain": [
       "'/home/jovyan/demo/src'"
      ]
     },
     "execution_count": 6,
     "metadata": {},
     "output_type": "execute_result"
    }
   ],
   "source": [
    "# root path for the project\n",
    "dlf.project.rootpath()"
   ]
  },
  {
   "cell_type": "code",
   "execution_count": 7,
   "metadata": {},
   "outputs": [
    {
     "data": {
      "text/plain": [
       "'main.ipynb'"
      ]
     },
     "execution_count": 7,
     "metadata": {},
     "output_type": "execute_result"
    }
   ],
   "source": [
    "# this notebook\n",
    "dlf.project.filename()"
   ]
  },
  {
   "cell_type": "code",
   "execution_count": 8,
   "metadata": {},
   "outputs": [
    {
     "data": {
      "text/plain": [
       "'/home/jovyan/demo/src'"
      ]
     },
     "execution_count": 8,
     "metadata": {},
     "output_type": "execute_result"
    }
   ],
   "source": [
    "# current workdir\n",
    "dlf.project.workdir()"
   ]
  },
  {
   "cell_type": "code",
   "execution_count": 9,
   "metadata": {},
   "outputs": [
    {
     "data": {
      "text/plain": [
       "'default'"
      ]
     },
     "execution_count": 9,
     "metadata": {},
     "output_type": "execute_result"
    }
   ],
   "source": [
    "# profile - as defined in metadata\n",
    "dlf.project.profile()"
   ]
  },
  {
   "cell_type": "code",
   "execution_count": 10,
   "metadata": {},
   "outputs": [
    {
     "data": {
      "text/plain": [
       "{'profile': 'default',\n",
       " 'filename': 'main.ipynb',\n",
       " 'rootpath': '/home/jovyan/demo/src',\n",
       " 'workdir': '/home/jovyan/demo/src'}"
      ]
     },
     "execution_count": 10,
     "metadata": {},
     "output_type": "execute_result"
    }
   ],
   "source": [
    "#project info, and current notebook\n",
    "dlf.project.info()"
   ]
  },
  {
   "cell_type": "code",
   "execution_count": 11,
   "metadata": {},
   "outputs": [
    {
     "data": {
      "text/plain": [
       "['main.ipynb', 'hello.ipynb']"
      ]
     },
     "execution_count": 11,
     "metadata": {},
     "output_type": "execute_result"
    }
   ],
   "source": [
    "#all notebooks in this project\n",
    "dlf.project.notebooks()"
   ]
  },
  {
   "cell_type": "markdown",
   "metadata": {},
   "source": [
    "### Modules: Params\n",
    "\n",
    "Configuration is declared in metadata. Metadata is accumulated starting from the rootpath, and metadata files in submodules are merged all up together."
   ]
  },
  {
   "cell_type": "code",
   "execution_count": 12,
   "metadata": {},
   "outputs": [
    {
     "name": "stdout",
     "output_type": "stream",
     "text": [
      "engines:\n",
      "  spark-local:\n",
      "    config:\n",
      "      jobname: default\n",
      "      master: local[*]\n",
      "    context: spark\n",
      "loggers:\n",
      "  stream:\n",
      "    enable: true\n",
      "    severity: info\n",
      "profile: default\n",
      "providers:\n",
      "  local_filesystem:\n",
      "    format: csv\n",
      "    path: ../data\n",
      "    read:\n",
      "      options:\n",
      "        header: true\n",
      "        inferSchema: true\n",
      "    service: local\n",
      "    write:\n",
      "      options:\n",
      "        header: true\n",
      "        mode: overwrite\n",
      "resources:\n",
      "  .ascombe:\n",
      "    path: ascombe.csv\n",
      "    provider: local_filesystem\n",
      "  .correlation:\n",
      "    path: correlation.csv\n",
      "    provider: local_filesystem\n",
      "variables: {}\n",
      "\n"
     ]
    }
   ],
   "source": [
    "metadata = dlf.params.metadata()\n",
    "dlf.utils.pretty_print(metadata)"
   ]
  },
  {
   "cell_type": "markdown",
   "metadata": {},
   "source": [
    "Data resources are relative to the `rootpath`. Next to the resources we can declare `providers` and `engines`. More about data binding in the next section."
   ]
  },
  {
   "cell_type": "markdown",
   "metadata": {},
   "source": [
    "### Modules: Data\n",
    "\n",
    "Data binding works with the metadata files. It's a good practice to declare the actual binding in the metadata and avoiding hardcoding the paths in the notebooks and python source files."
   ]
  },
  {
   "cell_type": "markdown",
   "metadata": {},
   "source": [
    "`dlf.data.uri()` provide the uri, a unique identifier for the given resource,   \n",
    "where . denotes how deep in the directory structure the data is located with respect to the project rootpath"
   ]
  },
  {
   "cell_type": "code",
   "execution_count": 13,
   "metadata": {},
   "outputs": [
    {
     "data": {
      "text/plain": [
       "'.ascombe'"
      ]
     },
     "execution_count": 13,
     "metadata": {},
     "output_type": "execute_result"
    }
   ],
   "source": [
    "dlf.data.uri('ascombe')"
   ]
  },
  {
   "cell_type": "code",
   "execution_count": 14,
   "metadata": {},
   "outputs": [
    {
     "data": {
      "text/plain": [
       "{'resource': {'path': 'ascombe.csv', 'provider': 'local_filesystem'},\n",
       " 'provider': {'format': 'csv',\n",
       "  'path': '../data',\n",
       "  'read': {'options': {'header': True, 'inferSchema': True}},\n",
       "  'service': 'local',\n",
       "  'write': {'options': {'header': True, 'mode': 'overwrite'}}}}"
      ]
     },
     "execution_count": 14,
     "metadata": {},
     "output_type": "execute_result"
    }
   ],
   "source": [
    "dlf.data.metadata('ascombe')"
   ]
  },
  {
   "cell_type": "markdown",
   "metadata": {},
   "source": [
    "### Modules: Notebook\n",
    "\n",
    "This submodules contains a set of utilies to extract info from notebooks."
   ]
  },
  {
   "cell_type": "code",
   "execution_count": 15,
   "metadata": {},
   "outputs": [
    {
     "data": {
      "text/plain": [
       "{'cells': 8,\n",
       " 'markdown': 3,\n",
       " 'code': 5,\n",
       " 'ename': None,\n",
       " 'evalue': None,\n",
       " 'executed': 3}"
      ]
     },
     "execution_count": 15,
     "metadata": {},
     "output_type": "execute_result"
    }
   ],
   "source": [
    "dlf.notebook.statistics('hello.ipynb')"
   ]
  },
  {
   "cell_type": "markdown",
   "metadata": {},
   "source": [
    "### Modules: Engines\n",
    "\n",
    "This submodules will allow you to start a context, from the configuration described in the metadata. It also provide, basic load/store data functions according to the aliases defined in the configuration.\n",
    "\n",
    "Let's start by listing the aliases and the configuration of the engines declared in `metadata.yml`.\n"
   ]
  },
  {
   "cell_type": "code",
   "execution_count": 16,
   "metadata": {},
   "outputs": [
    {
     "name": "stdout",
     "output_type": "stream",
     "text": [
      "spark-local:\n",
      "  config:\n",
      "    jobname: default\n",
      "    master: local[*]\n",
      "  context: spark\n",
      "\n"
     ]
    }
   ],
   "source": [
    "# get the aliases of the engines\n",
    "\n",
    "metadata = dlf.params.metadata()\n",
    "dlf.utils.pretty_print(metadata['engines'])"
   ]
  },
  {
   "cell_type": "markdown",
   "metadata": {},
   "source": [
    "__Context: Spark__  \n",
    "Let's start the engine session, by selecting a spark context from the list. Your can have many spark contexts declared, for instance for single node "
   ]
  },
  {
   "cell_type": "code",
   "execution_count": 17,
   "metadata": {},
   "outputs": [
    {
     "name": "stdout",
     "output_type": "stream",
     "text": [
      "PYSPARK_SUBMIT_ARGS:  pyspark-shell\n"
     ]
    }
   ],
   "source": [
    "import datalabframework as dlf\n",
    "engine = dlf.engines.get('spark-local')"
   ]
  },
  {
   "cell_type": "markdown",
   "metadata": {},
   "source": [
    "You can quickly inspect the properties of the context by calling the `info()` function"
   ]
  },
  {
   "cell_type": "code",
   "execution_count": 18,
   "metadata": {},
   "outputs": [
    {
     "data": {
      "text/plain": [
       "{'name': 'spark-local',\n",
       " 'context': 'spark',\n",
       " 'config': {'jobname': 'default', 'master': 'local[*]'}}"
      ]
     },
     "execution_count": 18,
     "metadata": {},
     "output_type": "execute_result"
    }
   ],
   "source": [
    "engine.info"
   ]
  },
  {
   "cell_type": "markdown",
   "metadata": {},
   "source": [
    "By calling the `context` method, you access the Spark SQL Context directly. The rest of your spark python code is not affected by the initialization of your session with the datalabframework."
   ]
  },
  {
   "cell_type": "code",
   "execution_count": 19,
   "metadata": {},
   "outputs": [
    {
     "data": {
      "text/plain": [
       "'spark:2.3.1'"
      ]
     },
     "execution_count": 19,
     "metadata": {},
     "output_type": "execute_result"
    }
   ],
   "source": [
    "spark = engine.context()\n",
    "\n",
    "#print out name and version\n",
    "'{}:{}'.format(engine.info['context'], spark.sparkSession.version)"
   ]
  },
  {
   "cell_type": "markdown",
   "metadata": {},
   "source": [
    "Once again, let's read the csv data again, this time using the spark context. First using the engine `write` utility, then directly using the spark context and the `dlf.data.path` function to localize our labeled dataset."
   ]
  },
  {
   "cell_type": "code",
   "execution_count": 20,
   "metadata": {},
   "outputs": [
    {
     "name": "stdout",
     "output_type": "stream",
     "text": [
      "repartition  None\n",
      "coalesce  None\n",
      "cache False\n",
      "file:///home/natbusa/Projects/datalabframework-demos/demos/minimal/demo/src/../data/ascombe.csv\n"
     ]
    }
   ],
   "source": [
    "#read using the engine utility\n",
    "df = engine.read('.ascombe')"
   ]
  },
  {
   "cell_type": "code",
   "execution_count": 21,
   "metadata": {},
   "outputs": [
    {
     "name": "stdout",
     "output_type": "stream",
     "text": [
      "root\n",
      " |-- idx: integer (nullable = true)\n",
      " |-- Ix: double (nullable = true)\n",
      " |-- Iy: double (nullable = true)\n",
      " |-- IIx: double (nullable = true)\n",
      " |-- IIy: double (nullable = true)\n",
      " |-- IIIx: double (nullable = true)\n",
      " |-- IIIy: double (nullable = true)\n",
      " |-- IVx: double (nullable = true)\n",
      " |-- IVy: double (nullable = true)\n",
      "\n"
     ]
    }
   ],
   "source": [
    "df.printSchema()"
   ]
  },
  {
   "cell_type": "code",
   "execution_count": 22,
   "metadata": {},
   "outputs": [
    {
     "name": "stdout",
     "output_type": "stream",
     "text": [
      "+---+----+-----+----+----+----+-----+----+----+\n",
      "|idx|  Ix|   Iy| IIx| IIy|IIIx| IIIy| IVx| IVy|\n",
      "+---+----+-----+----+----+----+-----+----+----+\n",
      "|  0|10.0| 8.04|10.0|9.14|10.0| 7.46| 8.0|6.58|\n",
      "|  1| 8.0| 6.95| 8.0|8.14| 8.0| 6.77| 8.0|5.76|\n",
      "|  2|13.0| 7.58|13.0|8.74|13.0|12.74| 8.0|7.71|\n",
      "|  3| 9.0| 8.81| 9.0|8.77| 9.0| 7.11| 8.0|8.84|\n",
      "|  4|11.0| 8.33|11.0|9.26|11.0| 7.81| 8.0|8.47|\n",
      "|  5|14.0| 9.96|14.0| 8.1|14.0| 8.84| 8.0|7.04|\n",
      "|  6| 6.0| 7.24| 6.0|6.13| 6.0| 6.08| 8.0|5.25|\n",
      "|  7| 4.0| 4.26| 4.0| 3.1| 4.0| 5.39|19.0|12.5|\n",
      "|  8|12.0|10.84|12.0|9.13|12.0| 8.15| 8.0|5.56|\n",
      "|  9| 7.0| 4.82| 7.0|7.26| 7.0| 6.42| 8.0|7.91|\n",
      "| 10| 5.0| 5.68| 5.0|4.74| 5.0| 5.73| 8.0|6.89|\n",
      "+---+----+-----+----+----+----+-----+----+----+\n",
      "\n"
     ]
    }
   ],
   "source": [
    "df.show()"
   ]
  },
  {
   "cell_type": "markdown",
   "metadata": {},
   "source": [
    "Finally, let's calculate the correlation for each set I,II, III, IV between the `x` and `y` columns and save the result on an separate dataset."
   ]
  },
  {
   "cell_type": "code",
   "execution_count": 23,
   "metadata": {},
   "outputs": [
    {
     "name": "stdout",
     "output_type": "stream",
     "text": [
      "+---+------------+-----------+------------+-----------+\n",
      "|idx|           I|         II|         III|         IV|\n",
      "+---+------------+-----------+------------+-----------+\n",
      "|  0| [10.0,8.04]|[10.0,9.14]| [10.0,7.46]| [8.0,6.58]|\n",
      "|  1|  [8.0,6.95]| [8.0,8.14]|  [8.0,6.77]| [8.0,5.76]|\n",
      "|  2| [13.0,7.58]|[13.0,8.74]|[13.0,12.74]| [8.0,7.71]|\n",
      "|  3|  [9.0,8.81]| [9.0,8.77]|  [9.0,7.11]| [8.0,8.84]|\n",
      "|  4| [11.0,8.33]|[11.0,9.26]| [11.0,7.81]| [8.0,8.47]|\n",
      "|  5| [14.0,9.96]| [14.0,8.1]| [14.0,8.84]| [8.0,7.04]|\n",
      "|  6|  [6.0,7.24]| [6.0,6.13]|  [6.0,6.08]| [8.0,5.25]|\n",
      "|  7|  [4.0,4.26]|  [4.0,3.1]|  [4.0,5.39]|[19.0,12.5]|\n",
      "|  8|[12.0,10.84]|[12.0,9.13]| [12.0,8.15]| [8.0,5.56]|\n",
      "|  9|  [7.0,4.82]| [7.0,7.26]|  [7.0,6.42]| [8.0,7.91]|\n",
      "| 10|  [5.0,5.68]| [5.0,4.74]|  [5.0,5.73]| [8.0,6.89]|\n",
      "+---+------------+-----------+------------+-----------+\n",
      "\n"
     ]
    }
   ],
   "source": [
    "from pyspark.ml.feature import VectorAssembler\n",
    "\n",
    "for s in ['I', 'II', 'III', 'IV']:\n",
    "    va = VectorAssembler(inputCols=[s+'x', s+'y'], outputCol=s)\n",
    "    df = va.transform(df)\n",
    "    df = df.drop(s+'x', s+'y')\n",
    "    \n",
    "df.show()"
   ]
  },
  {
   "cell_type": "markdown",
   "metadata": {},
   "source": [
    "After assembling the dataframe into four sets of 2D vectors, let's calculate the pearson correlation for each set. In the case the the ascombe sets, all sets should have the same pearson correlation."
   ]
  },
  {
   "cell_type": "code",
   "execution_count": 24,
   "metadata": {},
   "outputs": [],
   "source": [
    "from pyspark.ml.stat import Correlation\n",
    "from pyspark.sql.types import DoubleType\n",
    "\n",
    "corr = {}\n",
    "cols = ['I', 'II', 'III', 'IV']\n",
    "\n",
    "# calculate pearson correlations\n",
    "for s in cols:\n",
    "    corr[s] = Correlation.corr(df, s, 'pearson').collect()[0][0][0,1].item()\n",
    "\n",
    "# declare schema\n",
    "from pyspark.sql.types import StructType, StructField, FloatType\n",
    "schema = StructType([StructField(s, FloatType(), True) for s in cols])\n",
    "\n",
    "# create output dataframe\n",
    "corr_df = spark.createDataFrame(data=[corr], schema=schema)"
   ]
  },
  {
   "cell_type": "code",
   "execution_count": 25,
   "metadata": {},
   "outputs": [
    {
     "name": "stdout",
     "output_type": "stream",
     "text": [
      "+-----+-----+-----+-----+\n",
      "|    I|   II|  III|   IV|\n",
      "+-----+-----+-----+-----+\n",
      "|0.816|0.816|0.816|0.817|\n",
      "+-----+-----+-----+-----+\n",
      "\n"
     ]
    }
   ],
   "source": [
    "import pyspark.sql.functions as f\n",
    "corr_df.select([f.round(f.avg(c), 3).alias(c) for c in cols]).show()"
   ]
  },
  {
   "cell_type": "markdown",
   "metadata": {},
   "source": [
    "Save the results. It's a very small data frame, however Spark when saving  csv format files, assumes large data sets and partitions the files inside an object (a directory) with the name of the target file. See below:\n"
   ]
  },
  {
   "cell_type": "code",
   "execution_count": 26,
   "metadata": {},
   "outputs": [
    {
     "name": "stdout",
     "output_type": "stream",
     "text": [
      "repartition  None\n",
      "coalesce  None\n",
      "cache False\n",
      "file:///home/natbusa/Projects/datalabframework-demos/demos/minimal/demo/src/../data/correlation.csv\n"
     ]
    }
   ],
   "source": [
    "engine.write(corr_df,'correlation')"
   ]
  },
  {
   "cell_type": "markdown",
   "metadata": {},
   "source": [
    "We read it back to chack all went fine"
   ]
  },
  {
   "cell_type": "code",
   "execution_count": 27,
   "metadata": {},
   "outputs": [
    {
     "name": "stdout",
     "output_type": "stream",
     "text": [
      "repartition  None\n",
      "coalesce  None\n",
      "cache False\n",
      "file:///home/natbusa/Projects/datalabframework-demos/demos/minimal/demo/src/../data/correlation.csv\n",
      "+---------+---------+----------+----------+\n",
      "|        I|       II|       III|        IV|\n",
      "+---------+---------+----------+----------+\n",
      "|0.8164205|0.8162365|0.81628674|0.81652147|\n",
      "+---------+---------+----------+----------+\n",
      "\n"
     ]
    }
   ],
   "source": [
    "engine.read('correlation').show()"
   ]
  },
  {
   "cell_type": "markdown",
   "metadata": {},
   "source": [
    "### Modules: Export\n",
    "\n",
    "This submodules will allow you to export cells and import them in other notebooks as python packages. Check the notebook [hello.ipynb](hello.ipynb), where you will see how to export the notebook, then follow the code here below to check it really works!\n"
   ]
  },
  {
   "cell_type": "code",
   "execution_count": 28,
   "metadata": {},
   "outputs": [
    {
     "name": "stdout",
     "output_type": "stream",
     "text": [
      "importing Jupyter notebook from hello.ipynb\n"
     ]
    }
   ],
   "source": [
    "from hello import hi"
   ]
  },
  {
   "cell_type": "code",
   "execution_count": 29,
   "metadata": {},
   "outputs": [
    {
     "name": "stdout",
     "output_type": "stream",
     "text": [
      "Hi World!\n"
     ]
    }
   ],
   "source": [
    "hi()"
   ]
  },
  {
   "cell_type": "code",
   "execution_count": null,
   "metadata": {},
   "outputs": [],
   "source": []
  },
  {
   "cell_type": "code",
   "execution_count": null,
   "metadata": {},
   "outputs": [],
   "source": []
  }
 ],
 "metadata": {
  "kernelspec": {
   "display_name": "Python 3",
   "language": "python",
   "name": "python3"
  },
  "language_info": {
   "codemirror_mode": {
    "name": "ipython",
    "version": 3
   },
   "file_extension": ".py",
   "mimetype": "text/x-python",
   "name": "python",
   "nbconvert_exporter": "python",
   "pygments_lexer": "ipython3",
   "version": "3.6.3"
  }
 },
 "nbformat": 4,
 "nbformat_minor": 2
}
