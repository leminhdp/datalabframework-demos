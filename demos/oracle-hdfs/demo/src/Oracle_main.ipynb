{
 "cells": [
  {
   "cell_type": "code",
   "execution_count": 1,
   "metadata": {},
   "outputs": [],
   "source": [
    "import datalabframework as dlf"
   ]
  },
  {
   "cell_type": "code",
   "execution_count": 2,
   "metadata": {},
   "outputs": [
    {
     "name": "stdout",
     "output_type": "stream",
     "text": [
      "engines:\n",
      "  spark:\n",
      "    config:\n",
      "      master: local[*]\n",
      "      packages:\n",
      "      - com.jslsolucoes:ojdbc6:11.2.0.1.0\n",
      "    context: spark\n",
      "loggers:\n",
      "  stream:\n",
      "    enable: true\n",
      "    severity: info\n",
      "profile: default\n",
      "providers:\n",
      "  ingest:\n",
      "    format: parquet\n",
      "    hostname: hdfs-nn\n",
      "    path: /data/ingest\n",
      "    service: hdfs\n",
      "    write:\n",
      "      coalesce: 2\n",
      "      options:\n",
      "        mode: append\n",
      "        partitionBy:\n",
      "        - date\n",
      "  source:\n",
      "    database: EE.oracle.docker\n",
      "    hostname: 172.19.0.3\n",
      "    password: 1234\n",
      "    port: 1521\n",
      "    read:\n",
      "      cache: true\n",
      "      repartition: 4\n",
      "    service: oracle\n",
      "    username: vnpay\n",
      "resources:\n",
      "  .inaccount:\n",
      "    path: account\n",
      "    provider: source\n",
      "  .incustomer:\n",
      "    path: customer\n",
      "    provider: source\n",
      "  .outaccount:\n",
      "    path: account\n",
      "    provider: ingest\n",
      "    write:\n",
      "      option:\n",
      "        mode: append\n",
      "        partitionBy:\n",
      "        - date\n",
      "  .outcustomer:\n",
      "    path: customer\n",
      "    provider: ingest\n",
      "    write:\n",
      "      option:\n",
      "        mode: append\n",
      "        partitionBy:\n",
      "        - date\n",
      "variables:\n",
      "  a: 5\n",
      "  b: hello\n",
      "\n"
     ]
    }
   ],
   "source": [
    "dlf.project.profile()\n",
    "dlf.utils.pretty_print(dlf.params.metadata())"
   ]
  },
  {
   "cell_type": "code",
   "execution_count": 5,
   "metadata": {},
   "outputs": [],
   "source": [
    "engine = dlf.engines.get('spark')\n",
    "spark = engine.context()"
   ]
  },
  {
   "cell_type": "code",
   "execution_count": 6,
   "metadata": {},
   "outputs": [
    {
     "name": "stdout",
     "output_type": "stream",
     "text": [
      "2018-10-17 02:26:26,872 - INFO - 0 -  - jovyan - Oracle_main.ipynb - engine.read - {'format': 'parquet', 'service': 'oracle', 'path': 'customer', 'url': 'jdbc:oracle:thin:vnpay/1234@//172.20.0.3:1521/EE.oracle.docker'}\n"
     ]
    }
   ],
   "source": [
    "# empDF = spark.read \\\n",
    "#     .format(\"jdbc\") \\\n",
    "#     .option(\"url\", \"jdbc:oracle:thin:vnpay/1234@//172.20.0.3:1521/EE.oracle.docker\") \\\n",
    "#     .option(\"dbtable\", \"customer\") \\\n",
    "#     .option(\"driver\", \"oracle.jdbc.driver.OracleDriver\") \\\n",
    "#     .load()\n",
    "df_src = engine.read('incustomer')\n",
    "# df_src.show(5)\n",
    "# read by resource path and provider\n",
    "# df_src = engine.read(path='customer', provider='source')"
   ]
  },
  {
   "cell_type": "code",
   "execution_count": 7,
   "metadata": {},
   "outputs": [
    {
     "name": "stdout",
     "output_type": "stream",
     "text": [
      "+-------+-----------------+---------+------------+-----------+-----------+-----+\n",
      "|CUST_ID|          ADDRESS|     CITY|CUST_TYPE_CD|     FED_ID|POSTAL_CODE|STATE|\n",
      "+-------+-----------------+---------+------------+-----------+-----------+-----+\n",
      "|      4|   12 Buchanan Ln|  Waltham|           I|444-44-4444|      02451|   MA|\n",
      "|     12|      789 Main St|    Salem|           B| 04-3333333|      03079|   NH|\n",
      "|      1|47 Mockingbird Ln|Lynnfield|           I|111-11-1111|      01940|   MA|\n",
      "|      5|     2341 Main St|    Salem|           I|555-55-5555|      03079|   NH|\n",
      "|      8|   472 Freedom Rd|    Salem|           I|888-88-8888|      03079|   NH|\n",
      "+-------+-----------------+---------+------------+-----------+-----------+-----+\n",
      "only showing top 5 rows\n",
      "\n"
     ]
    }
   ],
   "source": [
    "df_src.show(5)"
   ]
  },
  {
   "cell_type": "code",
   "execution_count": 18,
   "metadata": {},
   "outputs": [
    {
     "data": {
      "text/plain": [
       "4"
      ]
     },
     "execution_count": 18,
     "metadata": {},
     "output_type": "execute_result"
    }
   ],
   "source": [
    "df_src.rdd.getNumPartitions()"
   ]
  },
  {
   "cell_type": "code",
   "execution_count": 19,
   "metadata": {},
   "outputs": [
    {
     "name": "stdout",
     "output_type": "stream",
     "text": [
      "2018-10-17 02:33:29,877 - INFO - 0 -  - jovyan - Oracle_main.ipynb - engine.write - {'format': 'parquet', 'service': 'hdfs', 'path': 'customer', 'url': 'hdfs://hdfs-nn:8020/data/ingest/customer'}\n"
     ]
    }
   ],
   "source": [
    "# write by resource alias \n",
    "engine.write(df_src, 'outcustomer', mode='overwrite')"
   ]
  },
  {
   "cell_type": "code",
   "execution_count": null,
   "metadata": {},
   "outputs": [],
   "source": []
  }
 ],
 "metadata": {
  "kernelspec": {
   "display_name": "Python 3",
   "language": "python",
   "name": "python3"
  },
  "language_info": {
   "codemirror_mode": {
    "name": "ipython",
    "version": 3
   },
   "file_extension": ".py",
   "mimetype": "text/x-python",
   "name": "python",
   "nbconvert_exporter": "python",
   "pygments_lexer": "ipython3",
   "version": "3.6.3"
  }
 },
 "nbformat": 4,
 "nbformat_minor": 2
}
